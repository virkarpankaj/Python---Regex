{
 "cells": [
  {
   "cell_type": "markdown",
   "id": "ed1d2710",
   "metadata": {},
   "source": [
    "### Regex - \n",
    "    * to extract the data from string with the help of - Pattern Matching\n",
    "    * Advanced Split \n",
    "    *\n"
   ]
  },
  {
   "cell_type": "markdown",
   "id": "df9dc61b",
   "metadata": {},
   "source": [
    "* This module exports the following functions:\n",
    "        1. match     Match a regular expression pattern to the beginning of a string.\n",
    "        2. fullmatch Match a regular expression pattern to all of a string.\n",
    "        3. search    Search a string for the presence of a pattern.\n",
    "        4. sub       Substitute occurrences of a pattern found in a string.\n",
    "        5. subn      Same as sub, but also return the number of substitutions made.\n",
    "        6. split     Split a string by the occurrences of a pattern.\n",
    "        7. findall   Find all occurrences of a pattern in a string.\n",
    "        8. finditer  Return an iterator yielding a Match object for each match.\n",
    "        9. compile   Compile a pattern into a Pattern object.\n",
    "        10. purge     Clear the regular expression cache.\n",
    "        11. escape    Backslash all non-alphanumerics in a string."
   ]
  },
  {
   "cell_type": "markdown",
   "id": "debd8ecd",
   "metadata": {},
   "source": [
    "### * at each string index we check -- ' regrex programming using python' - from r to n we check "
   ]
  },
  {
   "cell_type": "code",
   "execution_count": null,
   "id": "536bb44d",
   "metadata": {},
   "outputs": [],
   "source": []
  },
  {
   "cell_type": "code",
   "execution_count": 1,
   "id": "76d96fb6",
   "metadata": {},
   "outputs": [
    {
     "name": "stdout",
     "output_type": "stream",
     "text": [
      "['Welcome', 'to', 'Regex', 'Programming', 'using', 'Python']\n"
     ]
    }
   ],
   "source": [
    "s = \"Welcome to   Regex    Programming   using   Python\"\n",
    "lstWords = s.split()\n",
    "print(lstWords)"
   ]
  },
  {
   "cell_type": "code",
   "execution_count": 2,
   "id": "67fd8166",
   "metadata": {},
   "outputs": [
    {
     "name": "stdout",
     "output_type": "stream",
     "text": [
      "['Welcome', 'to', '', '', 'Regex', '', '', '', 'Programming', '', '', 'using', '', '', 'Python']\n"
     ]
    }
   ],
   "source": [
    "s = \"Welcome to   Regex    Programming   using   Python\"\n",
    "lstWords_spaces = s.split(\" \")\n",
    "print(lstWords_spaces)"
   ]
  },
  {
   "cell_type": "code",
   "execution_count": 3,
   "id": "d709b79b",
   "metadata": {
    "scrolled": true
   },
   "outputs": [
    {
     "name": "stdout",
     "output_type": "stream",
     "text": [
      "['Welcome', 'to', '', 'Regex', '', '', '', 'Programming', '', '', 'using', '', '', 'Python']\n"
     ]
    }
   ],
   "source": [
    "# removes 1 at a time\n",
    "lstWords_spaces.remove('')\n",
    "print(lstWords_spaces)"
   ]
  },
  {
   "cell_type": "code",
   "execution_count": null,
   "id": "afddb583",
   "metadata": {},
   "outputs": [],
   "source": []
  },
  {
   "cell_type": "code",
   "execution_count": 4,
   "id": "e10c89b9",
   "metadata": {},
   "outputs": [],
   "source": [
    "import re"
   ]
  },
  {
   "cell_type": "code",
   "execution_count": 5,
   "id": "dd5b1deb",
   "metadata": {},
   "outputs": [
    {
     "name": "stdout",
     "output_type": "stream",
     "text": [
      "Help on module re:\n",
      "\n",
      "NAME\n",
      "    re - Support for regular expressions (RE).\n",
      "\n",
      "MODULE REFERENCE\n",
      "    https://docs.python.org/3.8/library/re\n",
      "    \n",
      "    The following documentation is automatically generated from the Python\n",
      "    source files.  It may be incomplete, incorrect or include features that\n",
      "    are considered implementation detail and may vary between Python\n",
      "    implementations.  When in doubt, consult the module reference at the\n",
      "    location listed above.\n",
      "\n",
      "DESCRIPTION\n",
      "    This module provides regular expression matching operations similar to\n",
      "    those found in Perl.  It supports both 8-bit and Unicode strings; both\n",
      "    the pattern and the strings being processed can contain null bytes and\n",
      "    characters outside the US ASCII range.\n",
      "    \n",
      "    Regular expressions can contain both special and ordinary characters.\n",
      "    Most ordinary characters, like \"A\", \"a\", or \"0\", are the simplest\n",
      "    regular expressions; they simply match themselves.  You can\n",
      "    concatenate ordinary characters, so last matches the string 'last'.\n",
      "    \n",
      "    The special characters are:\n",
      "        \".\"      Matches any character except a newline.\n",
      "        \"^\"      Matches the start of the string.\n",
      "        \"$\"      Matches the end of the string or just before the newline at\n",
      "                 the end of the string.\n",
      "        \"*\"      Matches 0 or more (greedy) repetitions of the preceding RE.\n",
      "                 Greedy means that it will match as many repetitions as possible.\n",
      "        \"+\"      Matches 1 or more (greedy) repetitions of the preceding RE.\n",
      "        \"?\"      Matches 0 or 1 (greedy) of the preceding RE.\n",
      "        *?,+?,?? Non-greedy versions of the previous three special characters.\n",
      "        {m,n}    Matches from m to n repetitions of the preceding RE.\n",
      "        {m,n}?   Non-greedy version of the above.\n",
      "        \"\\\\\"     Either escapes special characters or signals a special sequence.\n",
      "        []       Indicates a set of characters.\n",
      "                 A \"^\" as the first character indicates a complementing set.\n",
      "        \"|\"      A|B, creates an RE that will match either A or B.\n",
      "        (...)    Matches the RE inside the parentheses.\n",
      "                 The contents can be retrieved or matched later in the string.\n",
      "        (?aiLmsux) The letters set the corresponding flags defined below.\n",
      "        (?:...)  Non-grouping version of regular parentheses.\n",
      "        (?P<name>...) The substring matched by the group is accessible by name.\n",
      "        (?P=name)     Matches the text matched earlier by the group named name.\n",
      "        (?#...)  A comment; ignored.\n",
      "        (?=...)  Matches if ... matches next, but doesn't consume the string.\n",
      "        (?!...)  Matches if ... doesn't match next.\n",
      "        (?<=...) Matches if preceded by ... (must be fixed length).\n",
      "        (?<!...) Matches if not preceded by ... (must be fixed length).\n",
      "        (?(id/name)yes|no) Matches yes pattern if the group with id/name matched,\n",
      "                           the (optional) no pattern otherwise.\n",
      "    \n",
      "    The special sequences consist of \"\\\\\" and a character from the list\n",
      "    below.  If the ordinary character is not on the list, then the\n",
      "    resulting RE will match the second character.\n",
      "        \\number  Matches the contents of the group of the same number.\n",
      "        \\A       Matches only at the start of the string.\n",
      "        \\Z       Matches only at the end of the string.\n",
      "        \\b       Matches the empty string, but only at the start or end of a word.\n",
      "        \\B       Matches the empty string, but not at the start or end of a word.\n",
      "        \\d       Matches any decimal digit; equivalent to the set [0-9] in\n",
      "                 bytes patterns or string patterns with the ASCII flag.\n",
      "                 In string patterns without the ASCII flag, it will match the whole\n",
      "                 range of Unicode digits.\n",
      "        \\D       Matches any non-digit character; equivalent to [^\\d].\n",
      "        \\s       Matches any whitespace character; equivalent to [ \\t\\n\\r\\f\\v] in\n",
      "                 bytes patterns or string patterns with the ASCII flag.\n",
      "                 In string patterns without the ASCII flag, it will match the whole\n",
      "                 range of Unicode whitespace characters.\n",
      "        \\S       Matches any non-whitespace character; equivalent to [^\\s].\n",
      "        \\w       Matches any alphanumeric character; equivalent to [a-zA-Z0-9_]\n",
      "                 in bytes patterns or string patterns with the ASCII flag.\n",
      "                 In string patterns without the ASCII flag, it will match the\n",
      "                 range of Unicode alphanumeric characters (letters plus digits\n",
      "                 plus underscore).\n",
      "                 With LOCALE, it will match the set [0-9_] plus characters defined\n",
      "                 as letters for the current locale.\n",
      "        \\W       Matches the complement of \\w.\n",
      "        \\\\       Matches a literal backslash.\n",
      "    \n",
      "    This module exports the following functions:\n",
      "        match     Match a regular expression pattern to the beginning of a string.\n",
      "        fullmatch Match a regular expression pattern to all of a string.\n",
      "        search    Search a string for the presence of a pattern.\n",
      "        sub       Substitute occurrences of a pattern found in a string.\n",
      "        subn      Same as sub, but also return the number of substitutions made.\n",
      "        split     Split a string by the occurrences of a pattern.\n",
      "        findall   Find all occurrences of a pattern in a string.\n",
      "        finditer  Return an iterator yielding a Match object for each match.\n",
      "        compile   Compile a pattern into a Pattern object.\n",
      "        purge     Clear the regular expression cache.\n",
      "        escape    Backslash all non-alphanumerics in a string.\n",
      "    \n",
      "    Each function other than purge and escape can take an optional 'flags' argument\n",
      "    consisting of one or more of the following module constants, joined by \"|\".\n",
      "    A, L, and U are mutually exclusive.\n",
      "        A  ASCII       For string patterns, make \\w, \\W, \\b, \\B, \\d, \\D\n",
      "                       match the corresponding ASCII character categories\n",
      "                       (rather than the whole Unicode categories, which is the\n",
      "                       default).\n",
      "                       For bytes patterns, this flag is the only available\n",
      "                       behaviour and needn't be specified.\n",
      "        I  IGNORECASE  Perform case-insensitive matching.\n",
      "        L  LOCALE      Make \\w, \\W, \\b, \\B, dependent on the current locale.\n",
      "        M  MULTILINE   \"^\" matches the beginning of lines (after a newline)\n",
      "                       as well as the string.\n",
      "                       \"$\" matches the end of lines (before a newline) as well\n",
      "                       as the end of the string.\n",
      "        S  DOTALL      \".\" matches any character at all, including the newline.\n",
      "        X  VERBOSE     Ignore whitespace and comments for nicer looking RE's.\n",
      "        U  UNICODE     For compatibility only. Ignored for string patterns (it\n",
      "                       is the default), and forbidden for bytes patterns.\n",
      "    \n",
      "    This module also defines an exception 'error'.\n",
      "\n",
      "CLASSES\n",
      "    builtins.Exception(builtins.BaseException)\n",
      "        error\n",
      "    builtins.object\n",
      "        Match\n",
      "        Pattern\n",
      "    \n",
      "    class Match(builtins.object)\n",
      "     |  The result of re.match() and re.search().\n",
      "     |  Match objects always have a boolean value of True.\n",
      "     |  \n",
      "     |  Methods defined here:\n",
      "     |  \n",
      "     |  __copy__(self, /)\n",
      "     |  \n",
      "     |  __deepcopy__(self, memo, /)\n",
      "     |  \n",
      "     |  __getitem__(self, key, /)\n",
      "     |      Return self[key].\n",
      "     |  \n",
      "     |  __repr__(self, /)\n",
      "     |      Return repr(self).\n",
      "     |  \n",
      "     |  end(self, group=0, /)\n",
      "     |      Return index of the end of the substring matched by group.\n",
      "     |  \n",
      "     |  expand(self, /, template)\n",
      "     |      Return the string obtained by doing backslash substitution on the string template, as done by the sub() method.\n",
      "     |  \n",
      "     |  group(...)\n",
      "     |      group([group1, ...]) -> str or tuple.\n",
      "     |      Return subgroup(s) of the match by indices or names.\n",
      "     |      For 0 returns the entire match.\n",
      "     |  \n",
      "     |  groupdict(self, /, default=None)\n",
      "     |      Return a dictionary containing all the named subgroups of the match, keyed by the subgroup name.\n",
      "     |      \n",
      "     |      default\n",
      "     |        Is used for groups that did not participate in the match.\n",
      "     |  \n",
      "     |  groups(self, /, default=None)\n",
      "     |      Return a tuple containing all the subgroups of the match, from 1.\n",
      "     |      \n",
      "     |      default\n",
      "     |        Is used for groups that did not participate in the match.\n",
      "     |  \n",
      "     |  span(self, group=0, /)\n",
      "     |      For match object m, return the 2-tuple (m.start(group), m.end(group)).\n",
      "     |  \n",
      "     |  start(self, group=0, /)\n",
      "     |      Return index of the start of the substring matched by group.\n",
      "     |  \n",
      "     |  ----------------------------------------------------------------------\n",
      "     |  Data descriptors defined here:\n",
      "     |  \n",
      "     |  endpos\n",
      "     |      The index into the string beyond which the RE engine will not go.\n",
      "     |  \n",
      "     |  lastgroup\n",
      "     |      The name of the last matched capturing group.\n",
      "     |  \n",
      "     |  lastindex\n",
      "     |      The integer index of the last matched capturing group.\n",
      "     |  \n",
      "     |  pos\n",
      "     |      The index into the string at which the RE engine started looking for a match.\n",
      "     |  \n",
      "     |  re\n",
      "     |      The regular expression object.\n",
      "     |  \n",
      "     |  regs\n",
      "     |  \n",
      "     |  string\n",
      "     |      The string passed to match() or search().\n",
      "    \n",
      "    class Pattern(builtins.object)\n",
      "     |  Compiled regular expression object.\n",
      "     |  \n",
      "     |  Methods defined here:\n",
      "     |  \n",
      "     |  __copy__(self, /)\n",
      "     |  \n",
      "     |  __deepcopy__(self, memo, /)\n",
      "     |  \n",
      "     |  __eq__(self, value, /)\n",
      "     |      Return self==value.\n",
      "     |  \n",
      "     |  __ge__(self, value, /)\n",
      "     |      Return self>=value.\n",
      "     |  \n",
      "     |  __gt__(self, value, /)\n",
      "     |      Return self>value.\n",
      "     |  \n",
      "     |  __hash__(self, /)\n",
      "     |      Return hash(self).\n",
      "     |  \n",
      "     |  __le__(self, value, /)\n",
      "     |      Return self<=value.\n",
      "     |  \n",
      "     |  __lt__(self, value, /)\n",
      "     |      Return self<value.\n",
      "     |  \n",
      "     |  __ne__(self, value, /)\n",
      "     |      Return self!=value.\n",
      "     |  \n",
      "     |  __repr__(self, /)\n",
      "     |      Return repr(self).\n",
      "     |  \n",
      "     |  findall(self, /, string, pos=0, endpos=9223372036854775807)\n",
      "     |      Return a list of all non-overlapping matches of pattern in string.\n",
      "     |  \n",
      "     |  finditer(self, /, string, pos=0, endpos=9223372036854775807)\n",
      "     |      Return an iterator over all non-overlapping matches for the RE pattern in string.\n",
      "     |      \n",
      "     |      For each match, the iterator returns a match object.\n",
      "     |  \n",
      "     |  fullmatch(self, /, string, pos=0, endpos=9223372036854775807)\n",
      "     |      Matches against all of the string.\n",
      "     |  \n",
      "     |  match(self, /, string, pos=0, endpos=9223372036854775807)\n",
      "     |      Matches zero or more characters at the beginning of the string.\n",
      "     |  \n",
      "     |  scanner(self, /, string, pos=0, endpos=9223372036854775807)\n",
      "     |  \n",
      "     |  search(self, /, string, pos=0, endpos=9223372036854775807)\n",
      "     |      Scan through string looking for a match, and return a corresponding match object instance.\n",
      "     |      \n",
      "     |      Return None if no position in the string matches.\n",
      "     |  \n",
      "     |  split(self, /, string, maxsplit=0)\n",
      "     |      Split string by the occurrences of pattern.\n",
      "     |  \n",
      "     |  sub(self, /, repl, string, count=0)\n",
      "     |      Return the string obtained by replacing the leftmost non-overlapping occurrences of pattern in string by the replacement repl.\n",
      "     |  \n",
      "     |  subn(self, /, repl, string, count=0)\n",
      "     |      Return the tuple (new_string, number_of_subs_made) found by replacing the leftmost non-overlapping occurrences of pattern with the replacement repl.\n",
      "     |  \n",
      "     |  ----------------------------------------------------------------------\n",
      "     |  Data descriptors defined here:\n",
      "     |  \n",
      "     |  flags\n",
      "     |      The regex matching flags.\n",
      "     |  \n",
      "     |  groupindex\n",
      "     |      A dictionary mapping group names to group numbers.\n",
      "     |  \n",
      "     |  groups\n",
      "     |      The number of capturing groups in the pattern.\n",
      "     |  \n",
      "     |  pattern\n",
      "     |      The pattern string from which the RE object was compiled.\n",
      "    \n",
      "    class error(builtins.Exception)\n",
      "     |  error(msg, pattern=None, pos=None)\n",
      "     |  \n",
      "     |  Exception raised for invalid regular expressions.\n",
      "     |  \n",
      "     |  Attributes:\n",
      "     |  \n",
      "     |      msg: The unformatted error message\n",
      "     |      pattern: The regular expression pattern\n",
      "     |      pos: The index in the pattern where compilation failed (may be None)\n",
      "     |      lineno: The line corresponding to pos (may be None)\n",
      "     |      colno: The column corresponding to pos (may be None)\n",
      "     |  \n",
      "     |  Method resolution order:\n",
      "     |      error\n",
      "     |      builtins.Exception\n",
      "     |      builtins.BaseException\n",
      "     |      builtins.object\n",
      "     |  \n",
      "     |  Methods defined here:\n",
      "     |  \n",
      "     |  __init__(self, msg, pattern=None, pos=None)\n",
      "     |      Initialize self.  See help(type(self)) for accurate signature.\n",
      "     |  \n",
      "     |  ----------------------------------------------------------------------\n",
      "     |  Data descriptors defined here:\n",
      "     |  \n",
      "     |  __weakref__\n",
      "     |      list of weak references to the object (if defined)\n",
      "     |  \n",
      "     |  ----------------------------------------------------------------------\n",
      "     |  Static methods inherited from builtins.Exception:\n",
      "     |  \n",
      "     |  __new__(*args, **kwargs) from builtins.type\n",
      "     |      Create and return a new object.  See help(type) for accurate signature.\n",
      "     |  \n",
      "     |  ----------------------------------------------------------------------\n",
      "     |  Methods inherited from builtins.BaseException:\n",
      "     |  \n",
      "     |  __delattr__(self, name, /)\n",
      "     |      Implement delattr(self, name).\n",
      "     |  \n",
      "     |  __getattribute__(self, name, /)\n",
      "     |      Return getattr(self, name).\n",
      "     |  \n",
      "     |  __reduce__(...)\n",
      "     |      Helper for pickle.\n",
      "     |  \n",
      "     |  __repr__(self, /)\n",
      "     |      Return repr(self).\n",
      "     |  \n",
      "     |  __setattr__(self, name, value, /)\n",
      "     |      Implement setattr(self, name, value).\n",
      "     |  \n",
      "     |  __setstate__(...)\n",
      "     |  \n",
      "     |  __str__(self, /)\n",
      "     |      Return str(self).\n",
      "     |  \n",
      "     |  with_traceback(...)\n",
      "     |      Exception.with_traceback(tb) --\n",
      "     |      set self.__traceback__ to tb and return self.\n",
      "     |  \n",
      "     |  ----------------------------------------------------------------------\n",
      "     |  Data descriptors inherited from builtins.BaseException:\n",
      "     |  \n",
      "     |  __cause__\n",
      "     |      exception cause\n",
      "     |  \n",
      "     |  __context__\n",
      "     |      exception context\n",
      "     |  \n",
      "     |  __dict__\n",
      "     |  \n",
      "     |  __suppress_context__\n",
      "     |  \n",
      "     |  __traceback__\n",
      "     |  \n",
      "     |  args\n",
      "\n",
      "FUNCTIONS\n",
      "    compile(pattern, flags=0)\n",
      "        Compile a regular expression pattern, returning a Pattern object.\n",
      "    \n",
      "    escape(pattern)\n",
      "        Escape special characters in a string.\n",
      "    \n",
      "    findall(pattern, string, flags=0)\n",
      "        Return a list of all non-overlapping matches in the string.\n",
      "        \n",
      "        If one or more capturing groups are present in the pattern, return\n",
      "        a list of groups; this will be a list of tuples if the pattern\n",
      "        has more than one group.\n",
      "        \n",
      "        Empty matches are included in the result.\n",
      "    \n",
      "    finditer(pattern, string, flags=0)\n",
      "        Return an iterator over all non-overlapping matches in the\n",
      "        string.  For each match, the iterator returns a Match object.\n",
      "        \n",
      "        Empty matches are included in the result.\n",
      "    \n",
      "    fullmatch(pattern, string, flags=0)\n",
      "        Try to apply the pattern to all of the string, returning\n",
      "        a Match object, or None if no match was found.\n",
      "    \n",
      "    match(pattern, string, flags=0)\n",
      "        Try to apply the pattern at the start of the string, returning\n",
      "        a Match object, or None if no match was found.\n",
      "    \n",
      "    purge()\n",
      "        Clear the regular expression caches\n",
      "    \n",
      "    search(pattern, string, flags=0)\n",
      "        Scan through string looking for a match to the pattern, returning\n",
      "        a Match object, or None if no match was found.\n",
      "    \n",
      "    split(pattern, string, maxsplit=0, flags=0)\n",
      "        Split the source string by the occurrences of the pattern,\n",
      "        returning a list containing the resulting substrings.  If\n",
      "        capturing parentheses are used in pattern, then the text of all\n",
      "        groups in the pattern are also returned as part of the resulting\n",
      "        list.  If maxsplit is nonzero, at most maxsplit splits occur,\n",
      "        and the remainder of the string is returned as the final element\n",
      "        of the list.\n",
      "    \n",
      "    sub(pattern, repl, string, count=0, flags=0)\n",
      "        Return the string obtained by replacing the leftmost\n",
      "        non-overlapping occurrences of the pattern in string by the\n",
      "        replacement repl.  repl can be either a string or a callable;\n",
      "        if a string, backslash escapes in it are processed.  If it is\n",
      "        a callable, it's passed the Match object and must return\n",
      "        a replacement string to be used.\n",
      "    \n",
      "    subn(pattern, repl, string, count=0, flags=0)\n",
      "        Return a 2-tuple containing (new_string, number).\n",
      "        new_string is the string obtained by replacing the leftmost\n",
      "        non-overlapping occurrences of the pattern in the source\n",
      "        string by the replacement repl.  number is the number of\n",
      "        substitutions that were made. repl can be either a string or a\n",
      "        callable; if a string, backslash escapes in it are processed.\n",
      "        If it is a callable, it's passed the Match object and must\n",
      "        return a replacement string to be used.\n",
      "    \n",
      "    template(pattern, flags=0)\n",
      "        Compile a template pattern, returning a Pattern object\n",
      "\n",
      "DATA\n",
      "    A = re.ASCII\n",
      "    ASCII = re.ASCII\n",
      "    DOTALL = re.DOTALL\n",
      "    I = re.IGNORECASE\n",
      "    IGNORECASE = re.IGNORECASE\n",
      "    L = re.LOCALE\n",
      "    LOCALE = re.LOCALE\n",
      "    M = re.MULTILINE\n",
      "    MULTILINE = re.MULTILINE\n",
      "    S = re.DOTALL\n",
      "    U = re.UNICODE\n",
      "    UNICODE = re.UNICODE\n",
      "    VERBOSE = re.VERBOSE\n",
      "    X = re.VERBOSE\n",
      "    __all__ = ['match', 'fullmatch', 'search', 'sub', 'subn', 'split', 'fi...\n",
      "\n",
      "VERSION\n",
      "    2.2.1\n",
      "\n",
      "FILE\n",
      "    c:\\users\\virka\\anaconda3\\lib\\re.py\n",
      "\n",
      "\n"
     ]
    }
   ],
   "source": [
    "help(re)"
   ]
  },
  {
   "cell_type": "code",
   "execution_count": null,
   "id": "92c09c64",
   "metadata": {},
   "outputs": [],
   "source": []
  },
  {
   "cell_type": "code",
   "execution_count": 5,
   "id": "454eb44a",
   "metadata": {},
   "outputs": [
    {
     "name": "stdout",
     "output_type": "stream",
     "text": [
      "the value of s               : Welcome to   Regex    Programming   using   Python\n",
      "Regex Split value of s        :['Welcome', 'to', '', '', 'Regex', '', '', '', 'Programming', '', '', 'using', '', '', 'Python']\n",
      "Regex Split value of s        :['Welcome', 'to', 'Regex', 'Programming', 'using', 'Python']\n"
     ]
    }
   ],
   "source": [
    "s = \"Welcome to   Regex    Programming   using   Python\"\n",
    "\n",
    "print(f'the value of s               : {s}')\n",
    "\n",
    "lstVal = re.split(r'\\s', s)\n",
    "#\\s only one space\n",
    "print(f'Regex Split value of s        :{lstVal}')\n",
    "\n",
    "lstVal2 = re.split(r'\\s+', s)\n",
    "#\\s+ space one or more\n",
    "print(f'Regex Split value of s        :{lstVal2}')"
   ]
  },
  {
   "cell_type": "code",
   "execution_count": 6,
   "id": "930047af",
   "metadata": {},
   "outputs": [
    {
     "name": "stdout",
     "output_type": "stream",
     "text": [
      "the value of s               : Welcome to   Regex    Programming   using   Python\n",
      "Regex Split value of s+        :['Welcome to   Regex    Programming   u', 'ing   Python']\n"
     ]
    }
   ],
   "source": [
    "s = \"Welcome to   Regex    Programming   using   Python\"\n",
    "\n",
    "print(f'the value of s               : {s}')\n",
    "\n",
    "lstVal = re.split(r's+', s)\n",
    "#s if you miss \\ consider s as word- Split based on s - s+ -one or more\n",
    "print(f'Regex Split value of s+        :{lstVal}')"
   ]
  },
  {
   "cell_type": "code",
   "execution_count": 7,
   "id": "789357ba",
   "metadata": {},
   "outputs": [
    {
     "name": "stdout",
     "output_type": "stream",
     "text": [
      "the value of s               : Welcome to   Regex    Programming   using   Python\n",
      "Regex Split value of s        :['W', 'l', 'om', ' to   R', 'g', 'x    Progr', 'mming   using   Python']\n"
     ]
    }
   ],
   "source": [
    "s = \"Welcome to   Regex    Programming   using   Python\"\n",
    "\n",
    "print(f'the value of s               : {s}')\n",
    "\n",
    "lstVal = re.split(r'[a-f]', s)\n",
    "#[a-f] - from a to f ( a,b,c,d,e,f,)\n",
    "print(f'Regex Split value of s        :{lstVal}')"
   ]
  },
  {
   "cell_type": "code",
   "execution_count": 8,
   "id": "66d38386",
   "metadata": {},
   "outputs": [],
   "source": [
    "lstValues = re.split(r\"[a-f][l-n]\", s)\n",
    "# [a-f] -> a b c d e f\n",
    "# [l-m] -> l m n\n",
    "# al am an bl bm bn cl cm cn dl dm dn el em en fl fm fn"
   ]
  },
  {
   "cell_type": "code",
   "execution_count": 9,
   "id": "7a229f5a",
   "metadata": {},
   "outputs": [
    {
     "data": {
      "text/plain": [
       "['W', 'come to   Regex    Progr', 'ming   using   Python']"
      ]
     },
     "execution_count": 9,
     "metadata": {},
     "output_type": "execute_result"
    }
   ],
   "source": [
    "lstValues\n",
    "# el am"
   ]
  },
  {
   "cell_type": "code",
   "execution_count": null,
   "id": "4a111322",
   "metadata": {},
   "outputs": [],
   "source": []
  },
  {
   "cell_type": "markdown",
   "id": "bda4700d",
   "metadata": {},
   "source": [
    "##  Extract the numbers"
   ]
  },
  {
   "cell_type": "code",
   "execution_count": 10,
   "id": "a1c64a76",
   "metadata": {},
   "outputs": [],
   "source": [
    "address = \"78 Hi 11    89 Main, 4th Cross, 123, Road, Marathalli, 5678 Bangalore, 560023 67893\""
   ]
  },
  {
   "cell_type": "code",
   "execution_count": 11,
   "id": "22bbe96a",
   "metadata": {},
   "outputs": [
    {
     "name": "stdout",
     "output_type": "stream",
     "text": [
      "sorting the only nums from address ['78', '11', '89', '4', '123', '5678', '560023', '67893']\n"
     ]
    }
   ],
   "source": [
    "add_nos = re.findall(r'\\d+', address)\n",
    "\n",
    "print(f'sorting the only nums from address {add_nos}')"
   ]
  },
  {
   "cell_type": "code",
   "execution_count": 12,
   "id": "0367792e",
   "metadata": {},
   "outputs": [
    {
     "name": "stdout",
     "output_type": "stream",
     "text": [
      "sorting the only nums from address ['560023']\n"
     ]
    }
   ],
   "source": [
    "## now i want nos with 6 digit only\n",
    "# REAL LIFE APPLICATION - EXTRACTING THE PIN CODES\n",
    "\n",
    "add_dig = re.findall(r'\\d{6}', address)\n",
    "\n",
    "print(f'sorting the only nums from address {add_dig}')"
   ]
  },
  {
   "cell_type": "code",
   "execution_count": 13,
   "id": "d4843581",
   "metadata": {},
   "outputs": [
    {
     "name": "stdout",
     "output_type": "stream",
     "text": [
      "sorting the only nums from address ['78', '11', '89', '4', '123', '567', '8', '560', '023', '678', '93']\n"
     ]
    }
   ],
   "source": [
    "## now i want nos with 1-3 digit only\n",
    "\n",
    "add_digs = re.findall(r'\\d{1,3}', address)\n",
    "\n",
    "print(f'sorting the only nums from address {add_digs}')"
   ]
  },
  {
   "cell_type": "code",
   "execution_count": null,
   "id": "2d4c1cd6",
   "metadata": {},
   "outputs": [],
   "source": [
    "# In above output we have not gor the desired output \n",
    "\n",
    "# coz for 5678 - we extracted 567\n",
    "# for 560023 - 560 & 023\n",
    "# 67893 - 678 & 93\n",
    "\n",
    "#to avoid this use space"
   ]
  },
  {
   "cell_type": "code",
   "execution_count": 14,
   "id": "24afdae9",
   "metadata": {},
   "outputs": [
    {
     "name": "stdout",
     "output_type": "stream",
     "text": [
      "sorting the only nums from address [' 11 ', ' 89 ']\n"
     ]
    }
   ],
   "source": [
    "## now i want nos with 2 digit only\n",
    "\n",
    "add_digs=re.findall(r'\\s\\d{2}\\s',address)\n",
    "\n",
    "print(f'sorting the only nums from address {add_digs}')"
   ]
  },
  {
   "cell_type": "code",
   "execution_count": null,
   "id": "cbb058d9",
   "metadata": {},
   "outputs": [],
   "source": [
    "# still 78 missing how to use either or here"
   ]
  },
  {
   "cell_type": "code",
   "execution_count": 15,
   "id": "dd8e3dec",
   "metadata": {},
   "outputs": [
    {
     "name": "stdout",
     "output_type": "stream",
     "text": [
      "sorting the only nums from address ['78 ', ' 11 ', ' 89 ', '78 ', '23 ']\n"
     ]
    }
   ],
   "source": [
    "## now i want nos with 2 digit only\n",
    "\n",
    "add_digs=re.findall(r'\\s?\\d{2}\\s',address)\n",
    "\n",
    "print(f'sorting the only nums from address {add_digs}')"
   ]
  },
  {
   "cell_type": "code",
   "execution_count": null,
   "id": "cb2249b1",
   "metadata": {},
   "outputs": [],
   "source": []
  },
  {
   "cell_type": "code",
   "execution_count": 16,
   "id": "2290a0f3",
   "metadata": {},
   "outputs": [],
   "source": [
    "\n",
    "s = '''\n",
    "<html>\n",
    "<head>\n",
    "<title>Current IP Address Allocations\n",
    "</title>\n",
    "</head>\n",
    "<body>\n",
    "IP Address are 172.45.78.109\n",
    "LoopBack Address: 127.0.0.1\n",
    "Computer 1: 10.67.89.101\n",
    "Computer 2: 11.67.98.102\n",
    "Computer 3: 12.68.98.102\n",
    "</body>\n",
    "</html>\n",
    "'''"
   ]
  },
  {
   "cell_type": "code",
   "execution_count": 17,
   "id": "f19ea6c6",
   "metadata": {},
   "outputs": [
    {
     "name": "stdout",
     "output_type": "stream",
     "text": [
      "ip address are -: ['172.45.78.109', '127.0.0.1', '10.67.89.101', '11.67.98.102', '12.68.98.102']\n"
     ]
    }
   ],
   "source": [
    "ip_s=re.findall(r'\\d{1,3}.\\d{1,3}.\\d{1,3}.\\d{1,3}',s)\n",
    "\n",
    "print(f'ip address are -: {ip_s}')"
   ]
  },
  {
   "cell_type": "code",
   "execution_count": 18,
   "id": "84e8a770",
   "metadata": {},
   "outputs": [
    {
     "name": "stdout",
     "output_type": "stream",
     "text": [
      "ip address are -: ['10.67.89.101', '11.67.98.102']\n"
     ]
    }
   ],
   "source": [
    "### 10  0r 11\n",
    "ip_s1=re.findall(r\"1[0-1]\\.\\d{1,3}\\.\\d{1,3}\\.\\d{1,3}\", s)\n",
    "print(f'ip address are -: {ip_s1}')"
   ]
  },
  {
   "cell_type": "code",
   "execution_count": 19,
   "id": "5ba5d60e",
   "metadata": {},
   "outputs": [
    {
     "name": "stdout",
     "output_type": "stream",
     "text": [
      "ip address are -: ['10.67.89.101', '11.67.98.102']\n"
     ]
    }
   ],
   "source": [
    "### 10  0r 11\n",
    "ip_s1=re.findall(r\"1[0|1]\\.\\d{1,3}\\.\\d{1,3}\\.\\d{1,3}\", s)\n",
    "print(f'ip address are -: {ip_s1}')"
   ]
  },
  {
   "cell_type": "code",
   "execution_count": 21,
   "id": "94aeb9d1",
   "metadata": {},
   "outputs": [
    {
     "name": "stdout",
     "output_type": "stream",
     "text": [
      "ip address are -: ['10.67.89.101', '11.67.98.102']\n"
     ]
    }
   ],
   "source": [
    "### 10  0r 11\n",
    "ip_s1=re.findall(r\"1[01]\\.\\d{1,3}\\.\\d{1,3}\\.\\d{1,3}\", s)\n",
    "print(f'ip address are -: {ip_s1}')"
   ]
  },
  {
   "cell_type": "code",
   "execution_count": 20,
   "id": "35d6c9a9",
   "metadata": {},
   "outputs": [
    {
     "name": "stdout",
     "output_type": "stream",
     "text": [
      "ip address are -: ['10.67.89.101']\n"
     ]
    }
   ],
   "source": [
    "### 10  only\n",
    "ip_s0=re.findall(r\"10\\.\\d{1,3}\\.\\d{1,3}\\.\\d{1,3}\", s)\n",
    "print(f'ip address are -: {ip_s0}')"
   ]
  },
  {
   "cell_type": "code",
   "execution_count": null,
   "id": "77709619",
   "metadata": {},
   "outputs": [],
   "source": []
  },
  {
   "cell_type": "code",
   "execution_count": null,
   "id": "7806ed9b",
   "metadata": {},
   "outputs": [],
   "source": []
  },
  {
   "cell_type": "code",
   "execution_count": 22,
   "id": "49e201ad",
   "metadata": {},
   "outputs": [
    {
     "name": "stdout",
     "output_type": "stream",
     "text": [
      "card details of amercian express cc is ['3775 123456 78910']\n"
     ]
    }
   ],
   "source": [
    "########################################### credit card ####################\n",
    "empDetails = \"Hi I have a credit card with number 3775 123456 78910 and \" \\\n",
    "             \"other card is\" \\\n",
    "             \" 3545 456789 12345\"\n",
    "\n",
    "#http://www.getcreditcardnumbers.com\n",
    "\n",
    "# AMEX Card American Express\n",
    "# Always Start with 3\n",
    "# Second Digit is either 4 or 7\n",
    "# <4 Digit> <6 Digit> <5 Digit>\n",
    "\n",
    "crdcard=re.findall(r'3[4|7]\\d{2}\\s\\d{6}\\s\\d{5}',empDetails)\n",
    "\n",
    "print(f'card details of amercian express cc is {crdcard}')"
   ]
  },
  {
   "cell_type": "code",
   "execution_count": null,
   "id": "9b295b14",
   "metadata": {},
   "outputs": [],
   "source": []
  },
  {
   "cell_type": "markdown",
   "id": "e5f94955",
   "metadata": {},
   "source": [
    "##### problem\n",
    "* put in dict"
   ]
  },
  {
   "cell_type": "code",
   "execution_count": 23,
   "id": "f55365c5",
   "metadata": {},
   "outputs": [
    {
     "name": "stdout",
     "output_type": "stream",
     "text": [
      "the players names are- ['Rohit', 'Virat', 'Dhawan']\n",
      "the players scores are- ['122', '96', '46']\n"
     ]
    }
   ],
   "source": [
    "sampleString = '''\n",
    "Rohit made 122 runs, Virat made 96 runs, and\n",
    "Dhawan made 46 runs and we won the match.\n",
    "'''\n",
    "\n",
    "# ans - {\"Rohit\": 122, \"Virat\": 96, \"Dhawan\": 46}\n",
    "\n",
    "\n",
    "names=re.findall(r'[A-Z][a-z]+',sampleString)\n",
    "score=re.findall(r'\\d+',sampleString)\n",
    "\n",
    "print(f'the players names are-',names)  #---['Rohit','Virat',\"Dhawan\"]\n",
    "print(f'the players scores are-',score) #-- [' 122 ', ' 96 ', ' 46 ']\n"
   ]
  },
  {
   "cell_type": "code",
   "execution_count": 24,
   "id": "213eb355",
   "metadata": {},
   "outputs": [
    {
     "name": "stdout",
     "output_type": "stream",
     "text": [
      "the dict is - {'Rohit': '122', 'Virat': '96', 'Dhawan': '46'}\n"
     ]
    }
   ],
   "source": [
    "# now dict part\n",
    "dictionary={}\n",
    "\n",
    "for i in range(3):\n",
    "    dictionary[names[i]]=score[i]\n",
    "print(f'the dict is - {dictionary}')"
   ]
  },
  {
   "cell_type": "code",
   "execution_count": null,
   "id": "e400fd8f",
   "metadata": {},
   "outputs": [],
   "source": []
  },
  {
   "cell_type": "code",
   "execution_count": 25,
   "id": "9e50edd4",
   "metadata": {},
   "outputs": [
    {
     "name": "stdout",
     "output_type": "stream",
     "text": [
      "the players names are- ['Rohit', 'Virat', 'Dhawan']\n",
      "the players scores are- ['122', '96', '46']\n"
     ]
    },
    {
     "data": {
      "text/plain": [
       "{'Rohit': '122', 'Virat': '96', 'Dhawan': '46'}"
      ]
     },
     "execution_count": 25,
     "metadata": {},
     "output_type": "execute_result"
    }
   ],
   "source": [
    "names=re.findall(r'[A-Z][a-z]*',sampleString)\n",
    "score=re.findall(r'\\d+',sampleString)\n",
    "\n",
    "print(f'the players names are-',names)  #---['Rohit','Virat',\"Dhawan\"]\n",
    "print(f'the players scores are-',score) #-- [' 122 ', ' 96 ', ' 46 ']\n",
    "\n",
    "# now dict part\n",
    "dictionary={}\n",
    "\n",
    "for i in range(3):\n",
    "    dictionary[names[i]]= score[i]\n",
    "dictionary"
   ]
  },
  {
   "cell_type": "code",
   "execution_count": null,
   "id": "52d6df8c",
   "metadata": {},
   "outputs": [],
   "source": []
  },
  {
   "cell_type": "code",
   "execution_count": null,
   "id": "a1dcfe33",
   "metadata": {},
   "outputs": [],
   "source": [
    "########################################################## zip #############################################3"
   ]
  },
  {
   "cell_type": "code",
   "execution_count": 26,
   "id": "3379dfd3",
   "metadata": {},
   "outputs": [
    {
     "name": "stdout",
     "output_type": "stream",
     "text": [
      "the players names are- ['Rohit', 'Virat', 'Dhawan']\n",
      "the players scores are- ['122', '96', '46']\n",
      "{'Rohit': '122', 'Virat': '96', 'Dhawan': '46'}\n"
     ]
    }
   ],
   "source": [
    "names=re.findall(r'[A-Z][a-z]+',sampleString)\n",
    "score=re.findall(r'\\d+',sampleString)\n",
    "\n",
    "print(f'the players names are-',names)  #---['Rohit','Virat',\"Dhawan\"]\n",
    "print(f'the players scores are-',score) #-- [' 122 ', ' 96 ', ' 46 ']\n",
    "\n",
    "# now dict part\n",
    "# zip creates group\n",
    "\n",
    "print(dict(zip(names,score)))"
   ]
  },
  {
   "cell_type": "code",
   "execution_count": null,
   "id": "3ec2cee8",
   "metadata": {},
   "outputs": [],
   "source": []
  },
  {
   "cell_type": "markdown",
   "id": "20d79fc7",
   "metadata": {},
   "source": [
    "### imp - formating inside   -- () output for whatever part of pattern inside ()"
   ]
  },
  {
   "cell_type": "code",
   "execution_count": 27,
   "id": "7ecbc357",
   "metadata": {},
   "outputs": [
    {
     "name": "stdout",
     "output_type": "stream",
     "text": [
      "Find all matches for format Month day\n",
      "gives Month Date format - ['June 24', 'August 9', 'Dec 12']\n",
      "gives only Month format - ['June', 'August', 'Dec']\n",
      "gives Date format - ['24', '9', '12']\n",
      "gives tuple of Month & Date format - [('June', '24'), ('August', '9'), ('Dec', '12')]\n"
     ]
    }
   ],
   "source": [
    "print(\"Find all matches for format Month day\")\n",
    "\n",
    "matches = re.findall(r\"[A-Z][a-z]+\\s\\d{1,2}\", \"These are the match dates June 24, August 9, Dec 12\")\n",
    "print(f'gives Month Date format - {matches}')\n",
    "\n",
    "matches = re.findall(r\"([A-Z][a-z]+)\\s\\d{1,2}\", \"These are the match dates June 24, August 9, Dec 12, and Nov\")\n",
    "print(f'gives only Month format - {matches}')\n",
    "\n",
    "matches = re.findall(r\"[A-Z][a-z]+\\s(\\d{1,2})\", \"These are the match dates June 24, August 9, Dec 12\")\n",
    "print(f'gives Date format - {matches}')\n",
    "\n",
    "matches = re.findall(r\"([A-Z][a-z]+)\\s(\\d{1,2})\", \"These are the match dates June 24, August 9, Dec 12\")\n",
    "print(f'gives tuple of Month & Date format - {matches}')"
   ]
  },
  {
   "cell_type": "code",
   "execution_count": null,
   "id": "911590c5",
   "metadata": {},
   "outputs": [],
   "source": []
  },
  {
   "cell_type": "markdown",
   "id": "bc0a8bf8",
   "metadata": {},
   "source": [
    "\n"
   ]
  },
  {
   "cell_type": "code",
   "execution_count": 28,
   "id": "bc3bab47",
   "metadata": {},
   "outputs": [
    {
     "name": "stdout",
     "output_type": "stream",
     "text": [
      "['', '', '', '', '', '', '', '', '', '', '', '', '', '', '', '', '', '', '', '', '', '', '', '', '', '', '', '', '', '', '', '', '', '', '', '', '', '', '', '', '', '', '', '', '', '', '', '', '', '', '', '', '', '', '', '', '', '', '', '', '', '', '', '', '', '', '', '', '', '', '', '', '', '', '', '', '', '', '', '', '', '', '', '', '', '', '', '', '', '', '', '', '', '', '', '', '', '', '', '']\n"
     ]
    }
   ],
   "source": [
    "s = \"purple alice@google.com abcde helloab@abc.com ---@gmail.com 23@gmail.com my23@gmail.com _@gmail.com\"\n",
    "\n",
    "emails = re.findall(r\"\", s)\n",
    "print(emails)"
   ]
  },
  {
   "cell_type": "code",
   "execution_count": 29,
   "id": "ba9335aa",
   "metadata": {},
   "outputs": [
    {
     "name": "stdout",
     "output_type": "stream",
     "text": [
      "['alice@google.com', 'helloab@abc.com', '23@gmail.com', 'my23@gmail.com', '_@gmail.com']\n"
     ]
    }
   ],
   "source": [
    "s = \"purple alice@google.com abcde helloab@abc.com ---@gmail.com 23@gmail.com my23@gmail.com _@gmail.com\"\n",
    "\n",
    "emails = re.findall(r\"\\w+@\\w+\\.\\w+\", s)\n",
    "print(emails)"
   ]
  },
  {
   "cell_type": "code",
   "execution_count": null,
   "id": "9c29caa0",
   "metadata": {},
   "outputs": [],
   "source": []
  },
  {
   "cell_type": "code",
   "execution_count": 30,
   "id": "56100249",
   "metadata": {},
   "outputs": [
    {
     "name": "stdout",
     "output_type": "stream",
     "text": [
      "starts with alphabets only ['alice@google.com', 'helloab@abc.com']\n"
     ]
    }
   ],
   "source": [
    "s = \"purple alice@google.com abcde helloab@abc.com ---@gmail.com 23@gmail.com my23@gmail.com _@gmail.com\"\n",
    "\n",
    "emails = re.findall(r\"[A-Za-z]+@\\w+\\.\\w+\", s)\n",
    "print(f'starts with alphabets only {emails}')\n",
    "\n",
    "# \\w => A-Za-z0-9_"
   ]
  },
  {
   "cell_type": "code",
   "execution_count": null,
   "id": "34995f49",
   "metadata": {},
   "outputs": [],
   "source": []
  },
  {
   "cell_type": "code",
   "execution_count": null,
   "id": "8c730d7c",
   "metadata": {},
   "outputs": [],
   "source": []
  },
  {
   "cell_type": "markdown",
   "id": "e3c8aea4",
   "metadata": {},
   "source": [
    "## Different Functions in ReGex"
   ]
  },
  {
   "cell_type": "markdown",
   "id": "17eb4f1f",
   "metadata": {},
   "source": [
    "### findall\n",
    "\n",
    "    * Returns list of all the matches"
   ]
  },
  {
   "cell_type": "code",
   "execution_count": 31,
   "id": "3d248a17",
   "metadata": {},
   "outputs": [
    {
     "data": {
      "text/plain": [
       "['e', 'e', 'e', 'e']"
      ]
     },
     "execution_count": 31,
     "metadata": {},
     "output_type": "execute_result"
    }
   ],
   "source": [
    "st = 'In a world where you can be anything, be kind'\n",
    "\n",
    "rslt = re.findall('e',st)\n",
    "rslt"
   ]
  },
  {
   "cell_type": "code",
   "execution_count": 32,
   "id": "4fd0e046",
   "metadata": {
    "scrolled": true
   },
   "outputs": [
    {
     "data": {
      "text/plain": [
       "[]"
      ]
     },
     "execution_count": 32,
     "metadata": {},
     "output_type": "execute_result"
    }
   ],
   "source": [
    "# empty list if pattern is not present\n",
    "rslt1 = re.findall('xyz',st)\n",
    "rslt1"
   ]
  },
  {
   "cell_type": "code",
   "execution_count": 33,
   "id": "bbbdbf1b",
   "metadata": {},
   "outputs": [
    {
     "data": {
      "text/plain": [
       "['be', 'be']"
      ]
     },
     "execution_count": 33,
     "metadata": {},
     "output_type": "execute_result"
    }
   ],
   "source": [
    "rslt2 = re.findall('be',st)\n",
    "rslt2"
   ]
  },
  {
   "cell_type": "code",
   "execution_count": 34,
   "id": "a9d4436c",
   "metadata": {},
   "outputs": [
    {
     "data": {
      "text/plain": [
       "['e', 'e', 'b', 'e', 'b', 'e']"
      ]
     },
     "execution_count": 34,
     "metadata": {},
     "output_type": "execute_result"
    }
   ],
   "source": [
    "# either b or e\n",
    "rslt21 = re.findall('[be]',st)\n",
    "rslt21"
   ]
  },
  {
   "cell_type": "code",
   "execution_count": 35,
   "id": "b15fab65",
   "metadata": {},
   "outputs": [
    {
     "data": {
      "text/plain": [
       "[]"
      ]
     },
     "execution_count": 35,
     "metadata": {},
     "output_type": "execute_result"
    }
   ],
   "source": [
    "rslt2 = re.findall('^w',st)\n",
    "rslt2"
   ]
  },
  {
   "cell_type": "code",
   "execution_count": 36,
   "id": "1fc84225",
   "metadata": {},
   "outputs": [
    {
     "data": {
      "text/plain": [
       "['I']"
      ]
     },
     "execution_count": 36,
     "metadata": {},
     "output_type": "execute_result"
    }
   ],
   "source": [
    "rslt2 = re.findall('^I',st)\n",
    "rslt2"
   ]
  },
  {
   "cell_type": "code",
   "execution_count": 37,
   "id": "71d73e20",
   "metadata": {},
   "outputs": [
    {
     "data": {
      "text/plain": [
       "['I']"
      ]
     },
     "execution_count": 37,
     "metadata": {},
     "output_type": "execute_result"
    }
   ],
   "source": [
    "rslt3 = re.findall('^I+',st)\n",
    "rslt3"
   ]
  },
  {
   "cell_type": "code",
   "execution_count": 38,
   "id": "f12e059f",
   "metadata": {},
   "outputs": [
    {
     "data": {
      "text/plain": [
       "['d']"
      ]
     },
     "execution_count": 38,
     "metadata": {},
     "output_type": "execute_result"
    }
   ],
   "source": [
    "rslt4 = re.findall('d$',st)\n",
    "rslt4"
   ]
  },
  {
   "cell_type": "code",
   "execution_count": 39,
   "id": "52fa8f81",
   "metadata": {},
   "outputs": [
    {
     "data": {
      "text/plain": [
       "['world wher']"
      ]
     },
     "execution_count": 39,
     "metadata": {},
     "output_type": "execute_result"
    }
   ],
   "source": [
    "rslt5 = re.findall('wo........',st)\n",
    "rslt5"
   ]
  },
  {
   "cell_type": "code",
   "execution_count": 40,
   "id": "4ada1e43",
   "metadata": {},
   "outputs": [
    {
     "data": {
      "text/plain": [
       "['world']"
      ]
     },
     "execution_count": 40,
     "metadata": {},
     "output_type": "execute_result"
    }
   ],
   "source": [
    "# 3rd element should be rld\n",
    "rslt6 = re.findall('..rld',st)\n",
    "rslt6"
   ]
  },
  {
   "cell_type": "code",
   "execution_count": 41,
   "id": "0037011e",
   "metadata": {},
   "outputs": [
    {
     "name": "stdout",
     "output_type": "stream",
     "text": [
      "['', '', '', '', '', 'w', '', '', '', '', '', 'w', '', '', '', '', '', '', '', '', '', '', '', '', '', '', '', '', '', '', '', '', '', '', '', '', '', '', '', '', '', '', '', '', '', '']\n"
     ]
    }
   ],
   "source": [
    "# zero or more occurance of w - if not returns null string\n",
    "rslt6 = re.findall('w*',st)\n",
    "print(rslt6)"
   ]
  },
  {
   "cell_type": "code",
   "execution_count": 42,
   "id": "b327fbf8",
   "metadata": {},
   "outputs": [
    {
     "name": "stdout",
     "output_type": "stream",
     "text": [
      "['', '', '', 'e', '', '', '', '', '', '', '', 'ee', '', '', '', '', '', '', '', '', 'e', '', '', '', '', '', '', '', 'ee', '', '']\n"
     ]
    }
   ],
   "source": [
    "#zero or more occurance of e - if not returns null string\n",
    "new_st = 'Friend in need is friend in deed'\n",
    "\n",
    "nr = re.findall('e*',new_st)\n",
    "print(nr)"
   ]
  },
  {
   "cell_type": "code",
   "execution_count": 43,
   "id": "93d6d4c7",
   "metadata": {},
   "outputs": [
    {
     "name": "stdout",
     "output_type": "stream",
     "text": [
      "['e', 'ee', 'e', 'ee']\n"
     ]
    }
   ],
   "source": [
    "#occurance of e followed by (zero or more occurance of 2nd e - if not returns null string)\n",
    "new_st = 'Friend in need is friend in deed'\n",
    "\n",
    "nr1 = re.findall('ee*',new_st)\n",
    "print(nr1)"
   ]
  },
  {
   "cell_type": "code",
   "execution_count": 44,
   "id": "1a290916",
   "metadata": {},
   "outputs": [
    {
     "name": "stdout",
     "output_type": "stream",
     "text": [
      "['ee', 'ee']\n"
     ]
    }
   ],
   "source": [
    "#occurance of e followed by (one or more occurance of 2nd e - if not returns null string)\n",
    "new_st = 'Friend in need is friend in deed'\n",
    "\n",
    "nr2 = re.findall('ee+',new_st)\n",
    "print(nr2)"
   ]
  },
  {
   "cell_type": "code",
   "execution_count": 45,
   "id": "b602f61d",
   "metadata": {},
   "outputs": [
    {
     "data": {
      "text/plain": [
       "['ee', 'ee']"
      ]
     },
     "execution_count": 45,
     "metadata": {},
     "output_type": "execute_result"
    }
   ],
   "source": [
    "# exact occurances - {}\n",
    "\n",
    "nr3 = re.findall('e{2}',new_st)\n",
    "nr3"
   ]
  },
  {
   "cell_type": "code",
   "execution_count": 46,
   "id": "161fb4b6",
   "metadata": {},
   "outputs": [
    {
     "data": {
      "text/plain": [
       "[]"
      ]
     },
     "execution_count": 46,
     "metadata": {},
     "output_type": "execute_result"
    }
   ],
   "source": [
    "# exact occurances - {}\n",
    "\n",
    "nr3 = re.findall('e{3}',new_st)\n",
    "nr3"
   ]
  },
  {
   "cell_type": "code",
   "execution_count": 47,
   "id": "cd6d0c5a",
   "metadata": {},
   "outputs": [
    {
     "data": {
      "text/plain": [
       "[' ', ' ', ' ', ' ', ' ', ' ']"
      ]
     },
     "execution_count": 47,
     "metadata": {},
     "output_type": "execute_result"
    }
   ],
   "source": [
    "# findall - spaces\n",
    "nr4 = re.findall('\\s',new_st)\n",
    "nr4"
   ]
  },
  {
   "cell_type": "code",
   "execution_count": 48,
   "id": "257134c1",
   "metadata": {},
   "outputs": [
    {
     "name": "stdout",
     "output_type": "stream",
     "text": [
      "['F', 'r', 'i', 'e', 'n', 'd', 'i', 'n', 'n', 'e', 'e', 'd', 'i', 's', 'f', 'r', 'i', 'e', 'n', 'd', 'i', 'n', 'd', 'e', 'e', 'd']\n"
     ]
    }
   ],
   "source": [
    "# findall - except spaces\n",
    "nr5 = re.findall('\\S',new_st)\n",
    "print(nr5)"
   ]
  },
  {
   "cell_type": "code",
   "execution_count": 49,
   "id": "a0bc6722",
   "metadata": {},
   "outputs": [
    {
     "name": "stdout",
     "output_type": "stream",
     "text": [
      "['2', '3', '4', '5', '3', '2', '1', '4']\n"
     ]
    }
   ],
   "source": [
    "# findall - digit\n",
    "new_st2 = 'Friend in need is 23 friend in 453214 deed'\n",
    "nr6 = re.findall('\\d',new_st2)\n",
    "print(nr6)"
   ]
  },
  {
   "cell_type": "code",
   "execution_count": 50,
   "id": "ecb3289b",
   "metadata": {},
   "outputs": [
    {
     "name": "stdout",
     "output_type": "stream",
     "text": [
      "['23', '453214']\n"
     ]
    }
   ],
   "source": [
    "# findall - digit 0ne or more\n",
    "new_st2 = 'Friend in need is 23 friend in 453214 deed'\n",
    "nr6 = re.findall('\\d+',new_st2)\n",
    "print(nr6)"
   ]
  },
  {
   "cell_type": "code",
   "execution_count": 51,
   "id": "ec099418",
   "metadata": {},
   "outputs": [
    {
     "name": "stdout",
     "output_type": "stream",
     "text": [
      "['F', 'r', 'i', 'e', 'n', 'd', ' ', 'i', 'n', ' ', 'n', 'e', 'e', 'd', ' ', 'i', 's', ' ', ' ', 'f', 'r', 'i', 'e', 'n', 'd', ' ', 'i', 'n', ' ', ' ', 'd', 'e', 'e', 'd']\n"
     ]
    }
   ],
   "source": [
    "# findall - except digit\n",
    "new_st2 = 'Friend in need is 23 friend in 453214 deed'\n",
    "nr6 = re.findall('\\D',new_st2)\n",
    "print(nr6)"
   ]
  },
  {
   "cell_type": "code",
   "execution_count": 52,
   "id": "564aa515",
   "metadata": {},
   "outputs": [
    {
     "name": "stdout",
     "output_type": "stream",
     "text": [
      "['F', 'r', 'i', 'e', 'n', 'd', 'i', 'n', 'n', 'e', 'e', 'd', 'i', 's', '2', '3', 'f', 'r', 'i', 'e', 'n', 'd', 'i', 'n', '4', '5', '3', '2', '1', '4', 'd', 'e', 'e', 'd']\n"
     ]
    }
   ],
   "source": [
    "# findall - words ( removes spaces)\n",
    "new_st2 = 'Friend in need is 23 friend in 453214 deed'\n",
    "nr6 = re.findall('\\w',new_st2)\n",
    "print(nr6)"
   ]
  },
  {
   "cell_type": "code",
   "execution_count": 53,
   "id": "90017495",
   "metadata": {},
   "outputs": [
    {
     "name": "stdout",
     "output_type": "stream",
     "text": [
      "[' ', ' ', ' ', ' ', ' ', ' ', ' ', ' ']\n"
     ]
    }
   ],
   "source": [
    "# findall - except alphanumeric\n",
    "new_st2 = 'Friend in need is 23 friend in 453214 deed'\n",
    "nr6 = re.findall('\\W',new_st2)\n",
    "print(nr6)"
   ]
  },
  {
   "cell_type": "code",
   "execution_count": 54,
   "id": "6d5478f0",
   "metadata": {},
   "outputs": [
    {
     "name": "stdout",
     "output_type": "stream",
     "text": [
      "['2', '3', '3', '2']\n"
     ]
    }
   ],
   "source": [
    "# findall - sets - [23] one digit\n",
    "new_st2 = 'Friend in need is 23 friend in 453214 deed'\n",
    "nr6 = re.findall('[23]',new_st2)\n",
    "print(nr6)"
   ]
  },
  {
   "cell_type": "code",
   "execution_count": 55,
   "id": "6111b2a2",
   "metadata": {},
   "outputs": [
    {
     "name": "stdout",
     "output_type": "stream",
     "text": [
      "[]\n"
     ]
    }
   ],
   "source": [
    "# findall - sets - [23][45] - 2 digit\n",
    "new_st2 = 'Friend in need is 23 friend in 453214 deed'\n",
    "nr6 = re.findall(r'[23][45]',new_st2)\n",
    "print(nr6)"
   ]
  },
  {
   "cell_type": "code",
   "execution_count": 56,
   "id": "90e1581b",
   "metadata": {},
   "outputs": [
    {
     "name": "stdout",
     "output_type": "stream",
     "text": [
      "['3', '4', '5', '3', '4']\n"
     ]
    }
   ],
   "source": [
    "# findall - sets\n",
    "new_st2 = 'Friend in need is 23 friend in 453214 deed'\n",
    "nr6 = re.findall('[3-9]',new_st2)\n",
    "print(nr6)"
   ]
  },
  {
   "cell_type": "code",
   "execution_count": null,
   "id": "e6c5c818",
   "metadata": {},
   "outputs": [],
   "source": []
  },
  {
   "cell_type": "markdown",
   "id": "d82b4d31",
   "metadata": {},
   "source": [
    "### finditr\n",
    "\n",
    "    ** it returns object\n",
    "    ** span(start index, end index)"
   ]
  },
  {
   "cell_type": "code",
   "execution_count": 57,
   "id": "7c1dd99a",
   "metadata": {},
   "outputs": [
    {
     "data": {
      "text/plain": [
       "<callable_iterator at 0x1d31d93ed60>"
      ]
     },
     "execution_count": 57,
     "metadata": {},
     "output_type": "execute_result"
    }
   ],
   "source": [
    "# like search it gives location  - it is also object\n",
    "source_str  = 'we need to inform him with the latest information'\n",
    "\n",
    "info = re.finditer('inform', source_str)\n",
    "info"
   ]
  },
  {
   "cell_type": "code",
   "execution_count": 58,
   "id": "783efc0b",
   "metadata": {},
   "outputs": [
    {
     "name": "stdout",
     "output_type": "stream",
     "text": [
      "<re.Match object; span=(11, 17), match='inform'>\n",
      "<re.Match object; span=(38, 44), match='inform'>\n"
     ]
    }
   ],
   "source": [
    "for i in info:\n",
    "    print (i)"
   ]
  },
  {
   "cell_type": "code",
   "execution_count": null,
   "id": "04d5262b",
   "metadata": {},
   "outputs": [],
   "source": []
  },
  {
   "cell_type": "code",
   "execution_count": null,
   "id": "f1fca890",
   "metadata": {},
   "outputs": [],
   "source": []
  },
  {
   "cell_type": "markdown",
   "id": "849380e0",
   "metadata": {},
   "source": [
    "### search"
   ]
  },
  {
   "cell_type": "code",
   "execution_count": 59,
   "id": "7efc4a09",
   "metadata": {},
   "outputs": [
    {
     "name": "stdout",
     "output_type": "stream",
     "text": [
      "type is object <re.Match object; span=(0, 2), match='In'>\n"
     ]
    }
   ],
   "source": [
    "st = 'In a world where you can be anything, be kind'\n",
    "\n",
    "match_object = re.search('In',st)\n",
    "print(f'type is object {match_object}')"
   ]
  },
  {
   "cell_type": "code",
   "execution_count": 60,
   "id": "1d8dc84c",
   "metadata": {},
   "outputs": [
    {
     "name": "stdout",
     "output_type": "stream",
     "text": [
      "type is object <re.Match object; span=(25, 27), match='be'>\n"
     ]
    }
   ],
   "source": [
    "match_object1 = re.search('be',st)\n",
    "print(f'type is object {match_object1}')"
   ]
  },
  {
   "cell_type": "code",
   "execution_count": 61,
   "id": "3188e0b5",
   "metadata": {},
   "outputs": [
    {
     "data": {
      "text/plain": [
       "0"
      ]
     },
     "execution_count": 61,
     "metadata": {},
     "output_type": "execute_result"
    }
   ],
   "source": [
    "match_object.start()"
   ]
  },
  {
   "cell_type": "code",
   "execution_count": 62,
   "id": "e6dc2a0a",
   "metadata": {},
   "outputs": [
    {
     "data": {
      "text/plain": [
       "25"
      ]
     },
     "execution_count": 62,
     "metadata": {},
     "output_type": "execute_result"
    }
   ],
   "source": [
    "match_object1.start()"
   ]
  },
  {
   "cell_type": "code",
   "execution_count": 63,
   "id": "c729a6c3",
   "metadata": {},
   "outputs": [
    {
     "data": {
      "text/plain": [
       "(0, 2)"
      ]
     },
     "execution_count": 63,
     "metadata": {},
     "output_type": "execute_result"
    }
   ],
   "source": [
    "match_object.span()"
   ]
  },
  {
   "cell_type": "code",
   "execution_count": 64,
   "id": "9ec4704d",
   "metadata": {},
   "outputs": [
    {
     "data": {
      "text/plain": [
       "(25, 27)"
      ]
     },
     "execution_count": 64,
     "metadata": {},
     "output_type": "execute_result"
    }
   ],
   "source": [
    "match_object1.span()"
   ]
  },
  {
   "cell_type": "code",
   "execution_count": 65,
   "id": "c5ee9573",
   "metadata": {},
   "outputs": [
    {
     "data": {
      "text/plain": [
       "<re.Match object; span=(11, 17), match='inform'>"
      ]
     },
     "execution_count": 65,
     "metadata": {},
     "output_type": "execute_result"
    }
   ],
   "source": [
    "source_str  = 'we need to inform him with the latest information'\n",
    "\n",
    "info = re.search('inform', source_str)\n",
    "info"
   ]
  },
  {
   "cell_type": "code",
   "execution_count": 66,
   "id": "b3c1d37d",
   "metadata": {},
   "outputs": [
    {
     "name": "stdout",
     "output_type": "stream",
     "text": [
      "inform is there\n"
     ]
    }
   ],
   "source": [
    "if re.search('inform', source_str):\n",
    "    print('inform is there')"
   ]
  },
  {
   "cell_type": "code",
   "execution_count": 67,
   "id": "a641da5f",
   "metadata": {},
   "outputs": [
    {
     "name": "stdout",
     "output_type": "stream",
     "text": [
      "here is \\kane\n"
     ]
    },
    {
     "data": {
      "text/plain": [
       "<re.Match object; span=(8, 13), match='\\\\kane'>"
      ]
     },
     "execution_count": 67,
     "metadata": {},
     "output_type": "execute_result"
    }
   ],
   "source": [
    "randomstr = 'here is \\\\kane'\n",
    "\n",
    "print(randomstr)\n",
    "\n",
    "re.search(r'\\\\kane',randomstr)"
   ]
  },
  {
   "cell_type": "code",
   "execution_count": null,
   "id": "342beaca",
   "metadata": {},
   "outputs": [],
   "source": []
  },
  {
   "cell_type": "code",
   "execution_count": null,
   "id": "8ae7fabd",
   "metadata": {},
   "outputs": [],
   "source": []
  },
  {
   "cell_type": "markdown",
   "id": "a675c30e",
   "metadata": {},
   "source": [
    "### split\n"
   ]
  },
  {
   "cell_type": "code",
   "execution_count": 68,
   "id": "83d1265a",
   "metadata": {},
   "outputs": [
    {
     "data": {
      "text/plain": [
       "['In', 'a', 'world', 'where', 'you', 'can', 'be', 'anything,', 'be', 'kind']"
      ]
     },
     "execution_count": 68,
     "metadata": {},
     "output_type": "execute_result"
    }
   ],
   "source": [
    "r = re.split(' ',st)\n",
    "r"
   ]
  },
  {
   "cell_type": "code",
   "execution_count": 69,
   "id": "ec3547ac",
   "metadata": {},
   "outputs": [
    {
     "data": {
      "text/plain": [
       "['In a world wh', 'r', ' you can b', ' anything, b', ' kind']"
      ]
     },
     "execution_count": 69,
     "metadata": {},
     "output_type": "execute_result"
    }
   ],
   "source": [
    "r1 = re.split('e',st)\n",
    "r1"
   ]
  },
  {
   "cell_type": "code",
   "execution_count": 70,
   "id": "d579ccf8",
   "metadata": {},
   "outputs": [
    {
     "data": {
      "text/plain": [
       "['In a world wh', 'r', ' you can be anything, be kind']"
      ]
     },
     "execution_count": 70,
     "metadata": {},
     "output_type": "execute_result"
    }
   ],
   "source": [
    "# max split\n",
    "r12 = re.split('e',st,2)\n",
    "r12 "
   ]
  },
  {
   "cell_type": "code",
   "execution_count": null,
   "id": "a39224bb",
   "metadata": {},
   "outputs": [],
   "source": []
  },
  {
   "cell_type": "markdown",
   "id": "1ecd16b5",
   "metadata": {},
   "source": [
    "### sub - substitute\n",
    "\n",
    "    * sub('old pattern','new pattern',source_str)"
   ]
  },
  {
   "cell_type": "code",
   "execution_count": 71,
   "id": "c4d6b765",
   "metadata": {},
   "outputs": [
    {
     "data": {
      "text/plain": [
       "'In a world whErE you can bE anything, bE kind'"
      ]
     },
     "execution_count": 71,
     "metadata": {},
     "output_type": "execute_result"
    }
   ],
   "source": [
    "sb = re.sub('e','E',st)\n",
    "sb"
   ]
  },
  {
   "cell_type": "code",
   "execution_count": 72,
   "id": "e9832441",
   "metadata": {},
   "outputs": [
    {
     "data": {
      "text/plain": [
       "'In a world whErE you can be anything, be kind'"
      ]
     },
     "execution_count": 72,
     "metadata": {},
     "output_type": "execute_result"
    }
   ],
   "source": [
    "# max no of occurances to be substituted\n",
    "sb1 = re.sub('e','E',st,2)\n",
    "sb1"
   ]
  },
  {
   "cell_type": "code",
   "execution_count": null,
   "id": "03ff5966",
   "metadata": {},
   "outputs": [],
   "source": []
  },
  {
   "cell_type": "markdown",
   "id": "2299ffeb",
   "metadata": {},
   "source": [
    "### Compile"
   ]
  },
  {
   "cell_type": "code",
   "execution_count": 73,
   "id": "9b200b49",
   "metadata": {},
   "outputs": [
    {
     "data": {
      "text/plain": [
       "re.compile(r'[r]at', re.UNICODE)"
      ]
     },
     "execution_count": 73,
     "metadata": {},
     "output_type": "execute_result"
    }
   ],
   "source": [
    "a = 'hat mat rat pat '\n",
    "\n",
    "reg = re.compile('[r]at')\n",
    "reg"
   ]
  },
  {
   "cell_type": "code",
   "execution_count": 74,
   "id": "0169543a",
   "metadata": {},
   "outputs": [
    {
     "data": {
      "text/plain": [
       "'hat mat FOOD pat '"
      ]
     },
     "execution_count": 74,
     "metadata": {},
     "output_type": "execute_result"
    }
   ],
   "source": [
    "rplce = reg.sub('FOOD',a)\n",
    "rplce"
   ]
  },
  {
   "cell_type": "code",
   "execution_count": null,
   "id": "4c640c2a",
   "metadata": {},
   "outputs": [],
   "source": []
  },
  {
   "cell_type": "code",
   "execution_count": 75,
   "id": "bdf23052",
   "metadata": {},
   "outputs": [
    {
     "data": {
      "text/plain": [
       "'hat mat FOOD pat '"
      ]
     },
     "execution_count": 75,
     "metadata": {},
     "output_type": "execute_result"
    }
   ],
   "source": [
    "#replacing \n",
    "\n",
    "rplc = re.sub('rat','FOOD',a)\n",
    "rplc"
   ]
  },
  {
   "cell_type": "code",
   "execution_count": null,
   "id": "9373cce5",
   "metadata": {},
   "outputs": [],
   "source": []
  },
  {
   "cell_type": "markdown",
   "id": "099671b1",
   "metadata": {},
   "source": [
    "### working with white spaces"
   ]
  },
  {
   "cell_type": "code",
   "execution_count": 76,
   "id": "f348e481",
   "metadata": {},
   "outputs": [
    {
     "data": {
      "text/plain": [
       "'keep the blue flag\\nflying high\\nchelsa\\n'"
      ]
     },
     "execution_count": 76,
     "metadata": {},
     "output_type": "execute_result"
    }
   ],
   "source": [
    "chelsea = '''keep the blue flag\n",
    "flying high\n",
    "chelsa\n",
    "'''\n",
    "chelsea"
   ]
  },
  {
   "cell_type": "code",
   "execution_count": 77,
   "id": "723ceda1",
   "metadata": {},
   "outputs": [
    {
     "data": {
      "text/plain": [
       "'keep the blue flag flying high chelsa '"
      ]
     },
     "execution_count": 77,
     "metadata": {},
     "output_type": "execute_result"
    }
   ],
   "source": [
    "new_str = re.sub('\\n',' ',chelsea)\n",
    "new_str"
   ]
  },
  {
   "cell_type": "code",
   "execution_count": 78,
   "id": "a2785f55",
   "metadata": {},
   "outputs": [
    {
     "data": {
      "text/plain": [
       "'keep the blue flag flying high chelsa '"
      ]
     },
     "execution_count": 78,
     "metadata": {},
     "output_type": "execute_result"
    }
   ],
   "source": [
    "# other method using compile\n",
    "\n",
    "comp = re.compile('\\n')\n",
    "\n",
    "new =comp.sub(' ',chelsea)\n",
    "new"
   ]
  },
  {
   "cell_type": "markdown",
   "id": "5efa75c8",
   "metadata": {},
   "source": [
    "* \\b : backspace\n",
    "* \\f : formfeed\n",
    "* \\r: carriage return\n",
    "* \\t: tab\n",
    "* \\v:vertical\n"
   ]
  },
  {
   "cell_type": "code",
   "execution_count": null,
   "id": "dda3aa77",
   "metadata": {},
   "outputs": [],
   "source": []
  },
  {
   "cell_type": "markdown",
   "id": "df421bb9",
   "metadata": {},
   "source": [
    "## Examples\n"
   ]
  },
  {
   "cell_type": "code",
   "execution_count": 79,
   "id": "0aa21ba9",
   "metadata": {},
   "outputs": [
    {
     "name": "stdout",
     "output_type": "stream",
     "text": [
      "{'Rahul': '23', 'Nakul': '35', 'Swayam': '19', 'Ankur': '40'}\n"
     ]
    }
   ],
   "source": [
    "# create a dict {name : age}\n",
    "Name_age = ' Rahul is 23, Nakul is 35, Swayam is 19 and Ankur is 40 '\n",
    "\n",
    "name = re.findall(r'[A-Z][a-z]*',Name_age)\n",
    "age = re.findall(r'\\d+',Name_age) # 1 way\n",
    "\n",
    "\n",
    "dict_na = {}\n",
    "for i in range(len(name)):\n",
    "    dict_na[name[i]] = age[i]\n",
    "print(dict_na)"
   ]
  },
  {
   "cell_type": "code",
   "execution_count": 80,
   "id": "e72c6431",
   "metadata": {},
   "outputs": [
    {
     "name": "stdout",
     "output_type": "stream",
     "text": [
      "{'Rahul': '23', 'Nakul': '35', 'Swayam': '19', 'Ankur': '40'}\n"
     ]
    }
   ],
   "source": [
    "name = re.findall(r'[A-Z][a-z]*',Name_age)\n",
    "age = re.findall(r'\\d{1,3}',Name_age)\n",
    "\n",
    "age_dict ={}\n",
    "j = 0\n",
    "for i in name:\n",
    "    age_dict[i] = age[j]\n",
    "    j+=1\n",
    "    \n",
    "print(age_dict)"
   ]
  },
  {
   "cell_type": "code",
   "execution_count": null,
   "id": "e8414659",
   "metadata": {},
   "outputs": [],
   "source": []
  },
  {
   "cell_type": "code",
   "execution_count": 81,
   "id": "652af966",
   "metadata": {},
   "outputs": [
    {
     "data": {
      "text/plain": [
       "['444-122-1234', '123-122-7899']"
      ]
     },
     "execution_count": 81,
     "metadata": {},
     "output_type": "execute_result"
    }
   ],
   "source": [
    "phone_no = ''' \n",
    "444-122-1234\n",
    "123-122-78999\n",
    "111-123-23\n",
    "67-7890-2019\n",
    "'''\n",
    "# 3 digit @ start & middle, end -4 digit\n",
    "\n",
    "reg = re.findall(r'\\d{3}\\-\\d{3}\\-\\d{4}',phone_no)\n",
    "reg"
   ]
  },
  {
   "cell_type": "code",
   "execution_count": null,
   "id": "6bd1ac2a",
   "metadata": {},
   "outputs": [],
   "source": []
  }
 ],
 "metadata": {
  "kernelspec": {
   "display_name": "Python 3 (ipykernel)",
   "language": "python",
   "name": "python3"
  },
  "language_info": {
   "codemirror_mode": {
    "name": "ipython",
    "version": 3
   },
   "file_extension": ".py",
   "mimetype": "text/x-python",
   "name": "python",
   "nbconvert_exporter": "python",
   "pygments_lexer": "ipython3",
   "version": "3.9.7"
  },
  "varInspector": {
   "cols": {
    "lenName": 16,
    "lenType": 16,
    "lenVar": 40
   },
   "kernels_config": {
    "python": {
     "delete_cmd_postfix": "",
     "delete_cmd_prefix": "del ",
     "library": "var_list.py",
     "varRefreshCmd": "print(var_dic_list())"
    },
    "r": {
     "delete_cmd_postfix": ") ",
     "delete_cmd_prefix": "rm(",
     "library": "var_list.r",
     "varRefreshCmd": "cat(var_dic_list()) "
    }
   },
   "types_to_exclude": [
    "module",
    "function",
    "builtin_function_or_method",
    "instance",
    "_Feature"
   ],
   "window_display": false
  }
 },
 "nbformat": 4,
 "nbformat_minor": 5
}
